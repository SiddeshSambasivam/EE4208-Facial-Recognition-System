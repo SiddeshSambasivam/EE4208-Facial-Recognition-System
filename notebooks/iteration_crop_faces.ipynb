{
 "cells": [
  {
   "cell_type": "code",
   "execution_count": 309,
   "id": "9e4ce2aa",
   "metadata": {},
   "outputs": [],
   "source": [
    "import cv2\n",
    "import numpy as np\n",
    "import matplotlib\n",
    "import matplotlib.pyplot as plt\n",
    "import matplotlib.image as mpimg\n",
    "import scipy\n",
    "from scipy import ndimage, misc\n",
    "import skimage\n",
    "faceCascade = cv2.CascadeClassifier(\"haarcascade_frontalface_default.xml\")"
   ]
  },
  {
   "cell_type": "code",
   "execution_count": null,
   "id": "93ed037e",
   "metadata": {},
   "outputs": [],
   "source": [
    "image = cv2.imread(*image file directory*)"
   ]
  },
  {
   "cell_type": "code",
   "execution_count": null,
   "id": "0188a03c",
   "metadata": {},
   "outputs": [],
   "source": [
    "plt.imshow(image)"
   ]
  },
  {
   "cell_type": "code",
   "execution_count": null,
   "id": "b0cdc6d5",
   "metadata": {},
   "outputs": [],
   "source": [
    "RGB_img = cv2.cvtColor(image,cv2.COLOR_BGR2RGB)\n",
    "plt.imshow(RGB_img)"
   ]
  },
  {
   "cell_type": "code",
   "execution_count": null,
   "id": "70becec4",
   "metadata": {},
   "outputs": [],
   "source": [
    "faces=faceCascade.detectMultiScale(\n",
    "    image,\n",
    "    scaleFactor=1.5,\n",
    "    minNeighbors=5,\n",
    "    minSize=(30,30)\n",
    ")\n",
    "\n",
    "print(faces)"
   ]
  },
  {
   "cell_type": "code",
   "execution_count": null,
   "id": "51f87af1",
   "metadata": {},
   "outputs": [],
   "source": [
    "image1 = cv2.imread(*image file directory*)\n",
    "for(x,y,w,h) in faces:\n",
    "    cv2.rectangle(image1,(x,y),(x+w,y+h),(255,0,0,),20)\n",
    "    plt.imshow(image1)"
   ]
  },
  {
   "cell_type": "code",
   "execution_count": null,
   "id": "684cd5d8",
   "metadata": {},
   "outputs": [],
   "source": [
    "ims = []\n",
    "for (x,y,w,h) in faces:\n",
    "    crop = image[y:y+h, x:x+w]\n",
    "    ims.append(crop)"
   ]
  },
  {
   "cell_type": "code",
   "execution_count": null,
   "id": "5ad7b684",
   "metadata": {},
   "outputs": [],
   "source": [
    "plt.imshow(ims[0])"
   ]
  },
  {
   "cell_type": "code",
   "execution_count": null,
   "id": "df8b1125",
   "metadata": {},
   "outputs": [],
   "source": [
    "cv2.imwrite(*store file directory*,ims[0])"
   ]
  },
  {
   "cell_type": "code",
   "execution_count": null,
   "id": "01849d96",
   "metadata": {},
   "outputs": [],
   "source": []
  },
  {
   "cell_type": "code",
   "execution_count": null,
   "id": "42645a70",
   "metadata": {},
   "outputs": [],
   "source": []
  }
 ],
 "metadata": {
  "kernelspec": {
   "display_name": "Python 3",
   "language": "python",
   "name": "python3"
  },
  "language_info": {
   "codemirror_mode": {
    "name": "ipython",
    "version": 3
   },
   "file_extension": ".py",
   "mimetype": "text/x-python",
   "name": "python",
   "nbconvert_exporter": "python",
   "pygments_lexer": "ipython3",
   "version": "3.8.8"
  }
 },
 "nbformat": 4,
 "nbformat_minor": 5
}
