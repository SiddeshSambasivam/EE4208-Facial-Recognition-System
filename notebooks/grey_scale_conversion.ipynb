{
 "cells": [
  {
   "cell_type": "code",
   "execution_count": 5,
   "id": "3b4ca914",
   "metadata": {},
   "outputs": [
    {
     "name": "stdout",
     "output_type": "stream",
     "text": [
      "Directory already exist, images will be written in same folder\n"
     ]
    }
   ],
   "source": [
    "import cv2\n",
    "from os import listdir,makedirs\n",
    "from os.path import isfile,join\n",
    "\n",
    "path = r'C:\\Users\\Admin\\Documents\\Python\\facial_images' # Source Folder\n",
    "dstpath = r'C:\\Users\\Admin\\Documents\\Python\\facial_images_grey' # Destination Folder\n",
    "\n",
    "try:\n",
    "    makedirs(dstpath)\n",
    "except:\n",
    "    print (\"Directory already exist, images will be written in same folder\")\n",
    "\n",
    "# Folder that we will not use\n",
    "files = [f for f in listdir(path) if isfile(join(path,f))] \n",
    "\n",
    "for image in files:\n",
    "    try:\n",
    "        img = cv2.imread(os.path.join(path,image))\n",
    "        gray = cv2.cvtColor(img,cv2.COLOR_BGR2GRAY)\n",
    "        dstPath = join(dstpath,image)\n",
    "        cv2.imwrite(dstPath,gray)\n",
    "    except:\n",
    "        print (\"{} is not converted\".format(image))"
   ]
  },
  {
   "cell_type": "code",
   "execution_count": null,
   "id": "03eee0f0",
   "metadata": {},
   "outputs": [],
   "source": []
  }
 ],
 "metadata": {
  "kernelspec": {
   "display_name": "Python 3",
   "language": "python",
   "name": "python3"
  },
  "language_info": {
   "codemirror_mode": {
    "name": "ipython",
    "version": 3
   },
   "file_extension": ".py",
   "mimetype": "text/x-python",
   "name": "python",
   "nbconvert_exporter": "python",
   "pygments_lexer": "ipython3",
   "version": "3.8.8"
  }
 },
 "nbformat": 4,
 "nbformat_minor": 5
}
